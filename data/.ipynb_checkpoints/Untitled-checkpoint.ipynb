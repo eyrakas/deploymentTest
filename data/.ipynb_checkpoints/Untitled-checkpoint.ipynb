{
 "cells": [
  {
   "cell_type": "code",
   "execution_count": 3,
   "metadata": {},
   "outputs": [
    {
     "name": "stderr",
     "output_type": "stream",
     "text": [
      "── \u001b[1mAttaching packages\u001b[22m ─────────────────────────────────────── tidyverse 1.2.1 ──\n",
      "\u001b[32m✔\u001b[39m \u001b[34mggplot2\u001b[39m 3.2.1     \u001b[32m✔\u001b[39m \u001b[34mpurrr  \u001b[39m 0.3.3\n",
      "\u001b[32m✔\u001b[39m \u001b[34mtibble \u001b[39m 2.1.3     \u001b[32m✔\u001b[39m \u001b[34mdplyr  \u001b[39m 0.8.3\n",
      "\u001b[32m✔\u001b[39m \u001b[34mtidyr  \u001b[39m 1.0.0     \u001b[32m✔\u001b[39m \u001b[34mstringr\u001b[39m 1.4.0\n",
      "\u001b[32m✔\u001b[39m \u001b[34mreadr  \u001b[39m 1.3.1     \u001b[32m✔\u001b[39m \u001b[34mforcats\u001b[39m 0.4.0\n",
      "── \u001b[1mConflicts\u001b[22m ────────────────────────────────────────── tidyverse_conflicts() ──\n",
      "\u001b[31m✖\u001b[39m \u001b[34mdplyr\u001b[39m::\u001b[32mfilter()\u001b[39m masks \u001b[34mstats\u001b[39m::filter()\n",
      "\u001b[31m✖\u001b[39m \u001b[34mdplyr\u001b[39m::\u001b[32mlag()\u001b[39m    masks \u001b[34mstats\u001b[39m::lag()\n"
     ]
    }
   ],
   "source": [
    "library(tidyverse)\n",
    "library(dplyr)\n",
    "library(ggplot2)"
   ]
  },
  {
   "cell_type": "code",
   "execution_count": 4,
   "metadata": {},
   "outputs": [],
   "source": [
    "factors_data=read.csv(\"clean_data_line_plot.csv\")"
   ]
  },
  {
   "cell_type": "code",
   "execution_count": 5,
   "metadata": {},
   "outputs": [
    {
     "data": {
      "text/html": [
       "<table>\n",
       "<caption>A data.frame: 6 × 7</caption>\n",
       "<thead>\n",
       "\t<tr><th scope=col>continent</th><th scope=col>year</th><th scope=col>high_blood_sugar</th><th scope=col>obesity</th><th scope=col>high_blood_pressure</th><th scope=col>smoking</th><th scope=col>air_pollution_outdoor_._indoor</th></tr>\n",
       "\t<tr><th scope=col>&lt;fct&gt;</th><th scope=col>&lt;int&gt;</th><th scope=col>&lt;dbl&gt;</th><th scope=col>&lt;dbl&gt;</th><th scope=col>&lt;dbl&gt;</th><th scope=col>&lt;dbl&gt;</th><th scope=col>&lt;dbl&gt;</th></tr>\n",
       "</thead>\n",
       "<tbody>\n",
       "\t<tr><td>Africa</td><td>1990</td><td>3644594</td><td>2001687</td><td>5779287</td><td>2586857</td><td>7133013</td></tr>\n",
       "\t<tr><td>Africa</td><td>1991</td><td>3753047</td><td>2082043</td><td>5906983</td><td>2645391</td><td>7178302</td></tr>\n",
       "\t<tr><td>Africa</td><td>1992</td><td>3882773</td><td>2175435</td><td>6062517</td><td>2713961</td><td>7253962</td></tr>\n",
       "\t<tr><td>Africa</td><td>1993</td><td>4027312</td><td>2283576</td><td>6243835</td><td>2790839</td><td>7336856</td></tr>\n",
       "\t<tr><td>Africa</td><td>1994</td><td>4172376</td><td>2401531</td><td>6417581</td><td>2871064</td><td>7404894</td></tr>\n",
       "\t<tr><td>Africa</td><td>1995</td><td>4291762</td><td>2486005</td><td>6553233</td><td>2934465</td><td>7462203</td></tr>\n",
       "</tbody>\n",
       "</table>\n"
      ],
      "text/latex": [
       "A data.frame: 6 × 7\n",
       "\\begin{tabular}{r|lllllll}\n",
       " continent & year & high\\_blood\\_sugar & obesity & high\\_blood\\_pressure & smoking & air\\_pollution\\_outdoor\\_.\\_indoor\\\\\n",
       " <fct> & <int> & <dbl> & <dbl> & <dbl> & <dbl> & <dbl>\\\\\n",
       "\\hline\n",
       "\t Africa & 1990 & 3644594 & 2001687 & 5779287 & 2586857 & 7133013\\\\\n",
       "\t Africa & 1991 & 3753047 & 2082043 & 5906983 & 2645391 & 7178302\\\\\n",
       "\t Africa & 1992 & 3882773 & 2175435 & 6062517 & 2713961 & 7253962\\\\\n",
       "\t Africa & 1993 & 4027312 & 2283576 & 6243835 & 2790839 & 7336856\\\\\n",
       "\t Africa & 1994 & 4172376 & 2401531 & 6417581 & 2871064 & 7404894\\\\\n",
       "\t Africa & 1995 & 4291762 & 2486005 & 6553233 & 2934465 & 7462203\\\\\n",
       "\\end{tabular}\n"
      ],
      "text/markdown": [
       "\n",
       "A data.frame: 6 × 7\n",
       "\n",
       "| continent &lt;fct&gt; | year &lt;int&gt; | high_blood_sugar &lt;dbl&gt; | obesity &lt;dbl&gt; | high_blood_pressure &lt;dbl&gt; | smoking &lt;dbl&gt; | air_pollution_outdoor_._indoor &lt;dbl&gt; |\n",
       "|---|---|---|---|---|---|---|\n",
       "| Africa | 1990 | 3644594 | 2001687 | 5779287 | 2586857 | 7133013 |\n",
       "| Africa | 1991 | 3753047 | 2082043 | 5906983 | 2645391 | 7178302 |\n",
       "| Africa | 1992 | 3882773 | 2175435 | 6062517 | 2713961 | 7253962 |\n",
       "| Africa | 1993 | 4027312 | 2283576 | 6243835 | 2790839 | 7336856 |\n",
       "| Africa | 1994 | 4172376 | 2401531 | 6417581 | 2871064 | 7404894 |\n",
       "| Africa | 1995 | 4291762 | 2486005 | 6553233 | 2934465 | 7462203 |\n",
       "\n"
      ],
      "text/plain": [
       "  continent year high_blood_sugar obesity high_blood_pressure smoking\n",
       "1 Africa    1990 3644594          2001687 5779287             2586857\n",
       "2 Africa    1991 3753047          2082043 5906983             2645391\n",
       "3 Africa    1992 3882773          2175435 6062517             2713961\n",
       "4 Africa    1993 4027312          2283576 6243835             2790839\n",
       "5 Africa    1994 4172376          2401531 6417581             2871064\n",
       "6 Africa    1995 4291762          2486005 6553233             2934465\n",
       "  air_pollution_outdoor_._indoor\n",
       "1 7133013                       \n",
       "2 7178302                       \n",
       "3 7253962                       \n",
       "4 7336856                       \n",
       "5 7404894                       \n",
       "6 7462203                       "
      ]
     },
     "metadata": {},
     "output_type": "display_data"
    }
   ],
   "source": [
    "head(factors_data)"
   ]
  },
  {
   "cell_type": "code",
   "execution_count": null,
   "metadata": {},
   "outputs": [],
   "source": []
  }
 ],
 "metadata": {
  "kernelspec": {
   "display_name": "R",
   "language": "R",
   "name": "ir"
  },
  "language_info": {
   "codemirror_mode": "r",
   "file_extension": ".r",
   "mimetype": "text/x-r-source",
   "name": "R",
   "pygments_lexer": "r",
   "version": "3.6.1"
  }
 },
 "nbformat": 4,
 "nbformat_minor": 4
}
